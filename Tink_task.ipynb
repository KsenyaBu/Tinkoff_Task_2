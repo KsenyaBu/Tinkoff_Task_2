{
 "cells": [
  {
   "cell_type": "markdown",
   "metadata": {},
   "source": [
    "#### 2.\n",
    "В облачном колл-центре Тинькофф операторы продаж получают деньги за проданные продукты клиенту, время диалога с клиентом. За продажу одних и тех же продуктов из разных баз существует своя стоимость успешного результата продажи, а за продажу дополнительных продуктов оператор получает еще и дополнительное вознаграждение. Необходимо автоматизировать выплаты операторам, для этого создается новый сервис для расчета заработной платы за расчетный период времени. Предполагается после каждого разговора оператора с клиентом отправлять бизнес-данные в новый сервис для последующего расчета заработной платы (в случае разрыва сети и перезвона - новая отправка). Необходимо составить JSON для отправки сообщения в новый сервис."
   ]
  },
  {
   "cell_type": "markdown",
   "metadata": {},
   "source": [
    "1) Формируем json-схему для отправки сообщения в новый сервис.\n",
    "\n",
    "2) Формируем json-объекты на основании полученных данных колл-центра.\n",
    "\n",
    "3) Если объект прошел валидацию json-схемы, отправляем запрос серверу, в одном из параметров запроса передаем json-объект. В противном случае, формируем файл с логами.\n",
    "\n",
    "Логика расчета заработной платы за расчетный период времени в новом сервисе:\n",
    "\n",
    "1. Одновременно фильтруем все записи:\n",
    "       1.1. по началу и концу расчетного периода, используя данные полей \"start_datetime_transaction\" и/или \"end_datetime_transaction\",\n",
    "       1.2. по сотруднику, используя данные объекта \"operator\".\n",
    "       \n",
    "2. По каждой отфильтрованной строке выполняем следующий алгоритм:\n",
    "       2.1. рассчитываем время диалога с клиентом на основании полей \"start_datetime_transaction\" и \"end_datetime_transaction\",\n",
    "       2.2. с учетом параметра \"add_prod\" устанавливаем дополнительные продукты /основной продукт,\n",
    "       2.3. на основании данных поля \"dbo_id\" для каждого продукта (\"id_prod\") устанавливаем стоимость успешного результата продажи,\n",
    "       2.4. по каждому дополнительному продукту учитываем дополнительное вознаграждение,\n",
    "       2.5. на основании данных выше рассчитываем суммарную зарплату сотрудника колл-центра за один телефонный звонок.\n",
    "       \n",
    "3. Суммируем результаты, полученные по каждой отфильтрованной строке.   "
   ]
  },
  {
   "cell_type": "code",
   "execution_count": 83,
   "metadata": {},
   "outputs": [],
   "source": [
    "import requests\n",
    "from jsonschema import validate, Draft7Validator"
   ]
  },
  {
   "cell_type": "code",
   "execution_count": 84,
   "metadata": {},
   "outputs": [],
   "source": [
    "schema = {\n",
    "    \"title\": \"transaction\",\n",
    "    \"type\" : \"object\",\n",
    "    \"required\": [ \"id_transaction\", \"operator\", \"start_datetime_transaction\", \"end_datetime_transaction\", \"product_dict\" ],\n",
    "    \"properties\" : {\n",
    "        \"id_transaction\": {\n",
    "                    \"description\": \"Unique operator call identifier\",\n",
    "                    \"type\": \"string\"\n",
    "        },\n",
    "        \"start_datetime_transaction\": {\n",
    "                    \"description\": \"Start date and time of operator call\",\n",
    "                    \"type\" : \"string\"\n",
    "        },\n",
    "        \"end_datetime_transaction\": {\n",
    "                    \"description\": \"End date and time of operator call\",\n",
    "                    \"type\" : \"string\"\n",
    "        },\n",
    "        \"operator\": {\n",
    "            \"type\": \"object\",\n",
    "            \"required\": [\"id\",\"first_name\",\"last_name\"],\n",
    "            \"properties\": {\n",
    "                    \"id\": { \n",
    "                        \"description\": \"Operator unique identifier\",\n",
    "                        \"type\": \"string\"\n",
    "                    },\n",
    "                    \"first_name\": { \n",
    "                        \"description\": \"Operator first_name\",\n",
    "                        \"type\": \"string\"\n",
    "                    },\n",
    "                    \"last_name\": { \n",
    "                        \"description\": \"Operator last_name\",\n",
    "                        \"type\": \"string\"\n",
    "                    },\n",
    "                    \"middle_name\": { \n",
    "                        \"description\": \"Operator middle_name\",\n",
    "                        \"type\": \"string\"\n",
    "                    }\n",
    "            }\n",
    "        },\n",
    "        \"product_dict\": {\n",
    "             \"type\": \"array\",\n",
    "             \"minItems\": 1,\n",
    "             \"items\":{\n",
    "                 \"type\": \"object\",\n",
    "                 \"required\": [ \"id_prod\", \"dbo_id\", \"add_prod\"],\n",
    "                 \"properties\": {\n",
    "                    \"id_prod\": {\n",
    "                        \"description\": \"Item_id\",\n",
    "                        \"type\": \"string\"\n",
    "                    },\n",
    "                    \"dbo_id\": {\n",
    "                        \"description\": \"SQL_id\",\n",
    "                        \"type\": \"string\"\n",
    "                    },\n",
    "                    \"add_prod\": {\n",
    "                        \"description\": \"Additional product or not\",\n",
    "                        \"type\": \"boolean\"                        \n",
    "                    }\n",
    "                 }\n",
    "             } \n",
    "        }\n",
    "    }\n",
    "}"
   ]
  },
  {
   "cell_type": "code",
   "execution_count": 88,
   "metadata": {},
   "outputs": [],
   "source": [
    "# для проверки json-объекты сформированы вручную\n",
    "json_list = []\n",
    "\n",
    "json_transaction_1={\"id_transaction\": \"Rec_01233\", \n",
    "                    \"start_datetime_transaction\": \"2021-01-09T12:54:03.433793\",\n",
    "                    \"operator\": \"Maria\"}\n",
    "json_list.append(json_transaction_1)\n",
    "\n",
    "json_transaction_2 = {\"id_transaction\": \"Rec_01234\", \n",
    "                    \"start_datetime_transaction\": \"2021-01-09T12:54:03.433793\",\n",
    "                    \"end_datetime_transaction\": \"2021-01-09T13:54:03.433793\",\n",
    "                    \"operator\": {\"id\": \"123\", \"first_name\" : \"Andrey\", \"last_name\" : \"Ivanov\"},\n",
    "                    \"product_dict\" : [\n",
    "                        { \"id_prod\" : \"id_123\", \"dbo_id\" : \"server/dbo_name_1\", \"add_prod\" : True},\n",
    "                        { \"id_prod\" : \"id_127\", \"dbo_id\" : \"server/dbo_name_1\", \"add_prod\" : False},\n",
    "                        { \"id_prod\" : \"id_123\", \"dbo_id\" : \"server/dbo_name_2\", \"add_prod\" : True}\n",
    "                    ]}\n",
    "json_list.append(json_transaction_2)"
   ]
  },
  {
   "cell_type": "code",
   "execution_count": 90,
   "metadata": {},
   "outputs": [
    {
     "name": "stdout",
     "output_type": "stream",
     "text": [
      "Rec_01233\n",
      "\n",
      "'end_datetime_transaction' is a required property\n",
      "\n",
      "'product_dict' is a required property\n",
      "\n",
      "'Maria' is not of type 'object'\n",
      "\n",
      "Rec_01234\n",
      "\n",
      "post_request\n"
     ]
    }
   ],
   "source": [
    "v = Draft7Validator(schema)\n",
    "for i,item in enumerate(json_list):\n",
    "    errors = sorted(v.iter_errors(item), key=lambda e: e.path)\n",
    "    print(f'{item[\"id_transaction\"]}\\n')\n",
    "    for error in errors:\n",
    "        print(f'{error.message}\\n')\n",
    "    if errors == []:\n",
    "        print(\"post_request\")\n",
    "        #resp = requests.post(url=\"exist_server_url\", params=json_transaction_1)\n",
    "    else:\n",
    "        with open('log.txt', 'w', encoding='utf8') as f:\n",
    "            f.write(f'{item[\"id_transaction\"]}\\n')\n",
    "            for error in errors:\n",
    "                f.write(f'{error.message}\\n')"
   ]
  }
 ],
 "metadata": {
  "kernelspec": {
   "display_name": "Python 3",
   "language": "python",
   "name": "python3"
  },
  "language_info": {
   "codemirror_mode": {
    "name": "ipython",
    "version": 3
   },
   "file_extension": ".py",
   "mimetype": "text/x-python",
   "name": "python",
   "nbconvert_exporter": "python",
   "pygments_lexer": "ipython3",
   "version": "3.8.3"
  }
 },
 "nbformat": 4,
 "nbformat_minor": 4
}
